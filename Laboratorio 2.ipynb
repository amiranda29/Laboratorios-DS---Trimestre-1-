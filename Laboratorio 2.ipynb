{
 "cells": [
  {
   "attachments": {},
   "cell_type": "markdown",
   "id": "2625e149",
   "metadata": {},
   "source": [
    "### Laboratorio 2\n",
    "Maria Alejandra Morales Miranda\n",
    " - Ciencia de Datos en Python\n",
    " - Seccion U"
   ]
  },
  {
   "attachments": {},
   "cell_type": "markdown",
   "id": "f2ff954b",
   "metadata": {},
   "source": [
    "1. Haga un programa en Python que reciba de parámetro un número de segundos y que despliegue en pantalla, las horas, minutos y segundos que representan. Por ejemplo:\n",
    "Si el número de segundos recibidos fuera: 2743 entonces su programa debería desplegar: Horas: 0, Minutos: 45 , Segundos: 43\n",
    "Si el número de segundos recibidos fuera 5871: Horas: 1, Minutos: 37 , Segundos: 51\n",
    "Recuerde manejar excepciones y errores que considere necesarios."
   ]
  },
  {
   "cell_type": "code",
   "execution_count": 3,
   "id": "4798cc14",
   "metadata": {},
   "outputs": [],
   "source": [
    "def convert_seconds(seconds):\n",
    "    try:\n",
    "        seconds = int(seconds)\n",
    "    except ValueError:\n",
    "        print(\"La entrada no es un entero.\")\n",
    "        return\n",
    "\n",
    "\n",
    "    hours = seconds // 3600\n",
    "    remaining_seconds = seconds % 3600\n",
    "    minutes = remaining_seconds // 60 \n",
    "    final_remaining_seconds = remaining_seconds % 60\n",
    "\n",
    "  \n",
    "    print(f\"Hours: {hours}, Minutes: {minutes}, Seconds: {final_remaining_seconds}\")\n"
   ]
  },
  {
   "cell_type": "code",
   "execution_count": 4,
   "id": "0d295287",
   "metadata": {},
   "outputs": [
    {
     "name": "stdout",
     "output_type": "stream",
     "text": [
      "Hours: 2, Minutes: 46, Seconds: 39\n"
     ]
    }
   ],
   "source": [
    "convert_seconds(9999)"
   ]
  },
  {
   "attachments": {},
   "cell_type": "markdown",
   "id": "371b3900",
   "metadata": {},
   "source": [
    "2. Haga una función en Python que dado un número entre 1 y 20. Y un carácter cualquiera despliegue cuatro patrones triangulares.\n",
    "Por ejemplo si el usuario ingresara el número 4 y el símbolo * el programa deberá desplegar 4 patrones tringulares conformados por el caracter *."
   ]
  },
  {
   "cell_type": "code",
   "execution_count": 11,
   "id": "b9e37d55",
   "metadata": {},
   "outputs": [],
   "source": [
    "def display_triangles(number, symbol):\n",
    "    if not 1 <= number <= 20:\n",
    "        print(\"El numero debe estar entre 1 y 20.\")\n",
    "        return\n",
    "\n",
    "\n",
    "    for i in range(1, number+1):\n",
    "        print(symbol * i)\n",
    "    print(\"\")\n",
    "\n",
    "\n",
    "    for i in range(1, number+1):\n",
    "        print(\" \" * (number-i) + symbol * i)\n",
    "    print(\"\")\n",
    "\n",
    "\n",
    "    for i in range(number, 0, -1):\n",
    "        print(symbol * i)\n",
    "    print(\"\")\n",
    "\n",
    "\n",
    "    for i in range(number, 0, -1):\n",
    "        print(\" \" * (number-i) + symbol * i)\n",
    "    print(\"\")"
   ]
  },
  {
   "cell_type": "code",
   "execution_count": 12,
   "id": "ff93c663",
   "metadata": {},
   "outputs": [
    {
     "name": "stdout",
     "output_type": "stream",
     "text": [
      "*\n",
      "**\n",
      "***\n",
      "****\n",
      "\n",
      "   *\n",
      "  **\n",
      " ***\n",
      "****\n",
      "\n",
      "****\n",
      "***\n",
      "**\n",
      "*\n",
      "\n",
      "****\n",
      " ***\n",
      "  **\n",
      "   *\n",
      "\n"
     ]
    }
   ],
   "source": [
    "display_triangles(4, \"*\")"
   ]
  },
  {
   "attachments": {},
   "cell_type": "markdown",
   "id": "bc23172f",
   "metadata": {},
   "source": [
    "3. Haga un programa en Python que, según la fecha de nacimiento ingresada de una persona, despliegue la edad de la persona en años, meses y días. Su resultado puede ser aproximado. Considere ingresar por separado cada valor, es decir pedir primero día, luego mes y luego año."
   ]
  },
  {
   "cell_type": "code",
   "execution_count": 13,
   "id": "753b4dc9",
   "metadata": {},
   "outputs": [],
   "source": [
    "import datetime\n",
    "\n",
    "def calculate_age(birth_year, birth_month, birth_day):\n",
    "\n",
    "    today = datetime.date.today()\n",
    "\n",
    "\n",
    "    birthday = datetime.date(birth_year, birth_month, birth_day)\n",
    "\n",
    "\n",
    "    difference = today - birthday\n",
    "\n",
    "\n",
    "    age_years = difference.days // 365\n",
    "    age_months = (difference.days % 365) // 30\n",
    "    age_days = (difference.days % 365) % 30\n",
    "\n",
    "    return age_years, age_months, age_days"
   ]
  },
  {
   "cell_type": "code",
   "execution_count": 14,
   "id": "e1f9cca4",
   "metadata": {},
   "outputs": [
    {
     "name": "stdout",
     "output_type": "stream",
     "text": [
      "You are 24 years, 9 months, and 2 days old.\n"
     ]
    }
   ],
   "source": [
    "birth_day = int(input(\"Enter your day of birth (1-31): \"))\n",
    "birth_month = int(input(\"Enter your month of birth (1-12): \"))\n",
    "birth_year = int(input(\"Enter your year of birth (YYYY): \"))\n",
    "\n",
    "age_years, age_months, age_days = calculate_age(birth_year, birth_month, birth_day)\n",
    "\n",
    "print(f\"You are {age_years} years, {age_months} months, and {age_days} days old.\")"
   ]
  },
  {
   "attachments": {},
   "cell_type": "markdown",
   "id": "d11466c8",
   "metadata": {},
   "source": [
    "4. Escriba una función en Python que dada una tupla de elementos (nuúmeros o letras) esta se convierta a un string. Tomar nota del siguiente ejemplo:\n",
    "Si la entrada fuera: (10, 20, 40, 5, 70) La salida debería ser: 102040570"
   ]
  },
  {
   "cell_type": "code",
   "execution_count": 15,
   "id": "b65e5efe",
   "metadata": {},
   "outputs": [],
   "source": [
    "def tuple_to_string(t):\n",
    "\n",
    "    s = ''.join(str(i) for i in t)\n",
    "    return s"
   ]
  },
  {
   "cell_type": "code",
   "execution_count": 16,
   "id": "37ef3d4e",
   "metadata": {},
   "outputs": [
    {
     "name": "stdout",
     "output_type": "stream",
     "text": [
      "102040570\n"
     ]
    }
   ],
   "source": [
    "tup = (10, 20, 40, 5, 70)\n",
    "s = tuple_to_string(tup)\n",
    "print(s)"
   ]
  },
  {
   "attachments": {},
   "cell_type": "markdown",
   "id": "e1924840",
   "metadata": {},
   "source": [
    "5. Cree un programa en Python que dada una lista de tuplas, elimine las tuplas que están vacías. Tomar nota del siguiente ejemplo:\n",
    "Si la lista fuera: [(), (), (’X’,), (’a’, ’b’), (’a’, ’b’, ’c’), (’d’)] El resultado debería ser: [(’X’), (’a’, ’b’), (’a’, ’b’, ’c’), ’d’]"
   ]
  },
  {
   "cell_type": "code",
   "execution_count": 17,
   "id": "35f31088",
   "metadata": {},
   "outputs": [],
   "source": [
    "def remove_empty_tuples(lst):\n",
    "\n",
    "    new_lst = list(filter(lambda x: len(x) > 0, lst))\n",
    "    return new_lst"
   ]
  },
  {
   "cell_type": "code",
   "execution_count": 18,
   "id": "500ce9a4",
   "metadata": {},
   "outputs": [
    {
     "name": "stdout",
     "output_type": "stream",
     "text": [
      "[(1,), ('a', 'b'), ('a', 'b', 'c'), 'd']\n"
     ]
    }
   ],
   "source": [
    "lst = [(), (), (1,), (),('a', 'b'), ('a', 'b', 'c'), ('d')]\n",
    "new_lst = remove_empty_tuples(lst)\n",
    "print(new_lst)"
   ]
  },
  {
   "attachments": {},
   "cell_type": "markdown",
   "id": "4d5fa542",
   "metadata": {},
   "source": [
    "6. Cree una función en Python que dada una tupla de tuplas con números, produzca una tupla con el promedio de cada tupla individual. Tomar nota del siguiente ejemplo:\n",
    "Si la tupla de entrada fuera: ((10, 10, 10, 12), (30, 45, 56, 45), (81, 80, 39, 32)) El resultado debería ser: (10.5, 44, 58)."
   ]
  },
  {
   "cell_type": "code",
   "execution_count": 19,
   "id": "5a7f71c7",
   "metadata": {},
   "outputs": [],
   "source": [
    "def tuple_avg(tuple_of_tuples):\n",
    "    return tuple(sum(tup)/len(tup) for tup in tuple_of_tuples)"
   ]
  },
  {
   "cell_type": "code",
   "execution_count": 20,
   "id": "8226b916",
   "metadata": {},
   "outputs": [
    {
     "name": "stdout",
     "output_type": "stream",
     "text": [
      "(10.6, 25.0, 43.0)\n"
     ]
    }
   ],
   "source": [
    "tuple_of_tuples = ((5, 8, 9, 20, 11), (23, 25, 23, 29), (44, 49, 39, 40))\n",
    "averages = tuple_avg(tuple_of_tuples)\n",
    "print(averages)"
   ]
  },
  {
   "attachments": {},
   "cell_type": "markdown",
   "id": "e4848e13",
   "metadata": {},
   "source": [
    "7. Escribir un programa que gestione las facturas pendientes de cobro de una empresa. Las facturas se almacenarán en un diccionario donde la llave de cada factura será el número de factura (debe utilizar un numero de 4 dígitos) y el valor, el coste de la factura. El programa debe preguntar al usuario si quiere añadir una nueva factura, pagar una existente o terminar. Si desea añadir una nueva factura se preguntará por el número de factura y su coste y se añadirá al diccionario, para confirmar que la factura se ingresó correctamente el programa debe desplegar el diccionario completo. Si se desea pagar una factura se preguntará por el número de factura y se eliminará del diccionario. Después de cada operación el programa debe mostrar en pantalla la cantidad cobrada hasta el momento y la cantidad pendiente de cobro. Puede utilizar otras estructuras de datos como apoyo si lo considera necesario."
   ]
  },
  {
   "cell_type": "code",
   "execution_count": 21,
   "id": "06a41d03",
   "metadata": {},
   "outputs": [
    {
     "name": "stdout",
     "output_type": "stream",
     "text": [
      "\n",
      "Seleccione una opción:\n",
      "1. Agregar una nueva factura\n",
      "2. Pagar una factura existente\n",
      "3. Salir\n",
      "Opción seleccionada: 1\n",
      "Facturas actuales:\n",
      "Factura 1234: $256.00\n",
      "Total facturas: $256.00\n",
      "Total pendiente de pago: $256.00\n",
      "\n",
      "Seleccione una opción:\n",
      "1. Agregar una nueva factura\n",
      "2. Pagar una factura existente\n",
      "3. Salir\n",
      "Opción seleccionada: \n",
      "Opción no válida\n",
      "Total facturas: $256.00\n",
      "Total pendiente de pago: $256.00\n",
      "\n",
      "Seleccione una opción:\n",
      "1. Agregar una nueva factura\n",
      "2. Pagar una factura existente\n",
      "3. Salir\n",
      "Opción seleccionada: \n",
      "Opción no válida\n",
      "Total facturas: $256.00\n",
      "Total pendiente de pago: $256.00\n",
      "\n",
      "Seleccione una opción:\n",
      "1. Agregar una nueva factura\n",
      "2. Pagar una factura existente\n",
      "3. Salir\n",
      "Opción seleccionada: 3\n",
      "Finalizado!\n"
     ]
    }
   ],
   "source": [
    "# Creating the invoices dictionary\n",
    "invoices = {}\n",
    "\n",
    "# Function to show invoices\n",
    "def display_invoices():\n",
    "    print(\"Facturas actuales:\")\n",
    "    for invoice_num, cost in invoices.items():\n",
    "        print(f\"Factura {invoice_num}: ${cost:.2f}\")\n",
    "\n",
    "# Function to add a new invoice\n",
    "def add_invoice():\n",
    "    invoice_num = input(\"Ingrese un número de factura (4 dígitos): \")\n",
    "    cost = float(input(\"Ingrese el valor de la factura: $\"))\n",
    "    invoices[invoice_num] = cost\n",
    "    display_invoices()\n",
    "\n",
    "# Function to pay the invoice\n",
    "def pay_invoice():\n",
    "    invoice_num = input(\"Ingrese el número de factura a pagar: \")\n",
    "    if invoice_num in invoices:\n",
    "        cost = invoices.pop(invoice_num)\n",
    "        print(f\"Factura {invoice_num} pagada: ${cost:.2f}\")\n",
    "    else:\n",
    "        print(\"Factura no encontrada\")\n",
    "    display_invoices()\n",
    "\n",
    "# Starting the program\n",
    "while True:\n",
    "    print(\"\\nSeleccione una opción:\")\n",
    "    print(\"1. Agregar una nueva factura\")\n",
    "    print(\"2. Pagar una factura existente\")\n",
    "    print(\"3. Salir\")\n",
    "    choice = input(\"\\nSeleccione una opción:\\n1. Agregar una nueva factura\\n2. Pagar una factura existente\\n3. Salir \")\n",
    "\n",
    "    print(f\"Opción seleccionada: {choice}\")\n",
    "\n",
    "    if choice == \"1\":\n",
    "        add_invoice()\n",
    "    elif choice == \"2\":\n",
    "        pay_invoice()\n",
    "    elif choice == \"3\":\n",
    "        print(\"Finalizado!\")\n",
    "        break\n",
    "    else:\n",
    "        print(\"Opción no válida\")\n",
    "\n",
    "    total_paid = sum(invoices.values())\n",
    "    total_pending = sum(cost for cost in invoices.values())\n",
    "    print(f\"Total facturas: ${total_paid:.2f}\")\n",
    "    print(f\"Total pendiente de pago: ${total_pending:.2f}\")"
   ]
  },
  {
   "attachments": {},
   "cell_type": "markdown",
   "id": "e671480d",
   "metadata": {},
   "source": [
    "8. Haga una función en Python, que cree un set con todas las cartas de una baraja de Poker utilizando el siguiente formato: Tipo-Numero. Utilice las letras T para tréboles, C para corazones, P para picas y E para espadas. Para los números utilice la numeración del 1 al 13. Por ejemplo E13 - sería Rey de Espadas, P01 sería As de Picas, T05 sería cinco de Tréboles.\n",
    "Posteriormente cree una función que dado el conjunto anterior cree dos sets nuevos de cartas, cada conjunto debe tener una cantidad variable de elementos, puede utilizar números aleatorios enteros para definir la longitud de los conjuntos.\n",
    "Adicionalmente, deberá calcular la probabilidad de la intersección de ambos conjuntos y demuestre si son eventos independientes con la regla del producto.\n",
    "Para concluir, calcule probabilidad de la unión de ambos conjuntos y demuestre que se cumple la regla de la adición."
   ]
  },
  {
   "cell_type": "code",
   "execution_count": 22,
   "id": "e15c172c",
   "metadata": {},
   "outputs": [
    {
     "name": "stdout",
     "output_type": "stream",
     "text": [
      "Set 1: {'P03', 'C12', 'C04', 'T01', 'T09', 'C13', 'E05', 'P11', 'T08', 'C10', 'P10', 'E13', 'T07', 'T02', 'C11', 'E02', 'T05', 'E07', 'P04', 'E09', 'P09', 'T12', 'C05', 'P12', 'E03', 'C02', 'T11', 'P13', 'P01', 'T13', 'E12', 'P07', 'E01'}\n",
      "Set 2: {'T03', 'C09', 'C12', 'E10', 'C01', 'P02', 'T10', 'C04', 'T01', 'P05', 'T04', 'C13', 'T09', 'E05', 'P11', 'T08', 'P10', 'E13', 'C10', 'E11', 'T07', 'T02', 'E02', 'P04', 'T05', 'E07', 'E09', 'P09', 'T12', 'C05', 'E08', 'P12', 'E03', 'C08', 'C02', 'C07', 'T11', 'C06', 'P08', 'T06', 'P13', 'E06', 'P07', 'P01', 'E12', 'E04', 'P06', 'P03', 'E01'}\n",
      "Probabilidad de intersección: 0.5961538461538461\n",
      "Regla del producto: 0.5980029585798816\n",
      "Los eventos no son independientes de acuerdo a la regla del producto.\n",
      "Probabilidad de la unión: 0.9807692307692307\n",
      "Regla de la adición: 0.9807692307692307\n",
      "Los eventos no son mutuamente excluyentes de acuerdo a la regla de adición.\n"
     ]
    },
    {
     "name": "stderr",
     "output_type": "stream",
     "text": [
      "C:\\Users\\ALE-PC\\AppData\\Local\\Temp\\ipykernel_15908\\894685755.py:15: DeprecationWarning: Sampling from a set deprecated\n",
      "since Python 3.9 and will be removed in a subsequent version.\n",
      "  set1 = set(random.sample(deck, random.randint(1, len(deck))))\n",
      "C:\\Users\\ALE-PC\\AppData\\Local\\Temp\\ipykernel_15908\\894685755.py:16: DeprecationWarning: Sampling from a set deprecated\n",
      "since Python 3.9 and will be removed in a subsequent version.\n",
      "  set2 = set(random.sample(deck, random.randint(1, len(deck))))\n"
     ]
    }
   ],
   "source": [
    "import random\n",
    "\n",
    "# Function to create a set with all the cards in a deck of Poker\n",
    "def create_deck():\n",
    "    suits = ['T', 'C', 'P', 'E']\n",
    "    deck = set()\n",
    "    for suit in suits:\n",
    "        for number in range(1, 14):\n",
    "            card = suit + '{:02d}'.format(number)\n",
    "            deck.add(card)\n",
    "    return deck\n",
    "\n",
    "# Function to create two new sets of cards from the deck\n",
    "def create_random_sets(deck):\n",
    "    set1 = set(random.sample(deck, random.randint(1, len(deck))))\n",
    "    set2 = set(random.sample(deck, random.randint(1, len(deck))))\n",
    "    return set1, set2\n",
    "\n",
    "# Function to calculate the probability of the intersection of the two sets\n",
    "def calculate_intersection_prob(set1, set2):\n",
    "    intersection = set1.intersection(set2)\n",
    "    intersection_prob = len(intersection)/len(deck)\n",
    "    return intersection_prob\n",
    "\n",
    "# Function to calculate the probability of the union of the two sets\n",
    "def calculate_union_prob(set1, set2):\n",
    "    union = set1.union(set2)\n",
    "    union_prob = len(union)/len(deck)\n",
    "    return union_prob\n",
    "\n",
    "# Create the deck of cards\n",
    "deck = create_deck()\n",
    "\n",
    "# Create two random sets of cards\n",
    "set1, set2 = create_random_sets(deck)\n",
    "print(\"Set 1:\", set1)\n",
    "print(\"Set 2:\", set2)\n",
    "\n",
    "# Calculate and print the probability of the intersection of the two sets\n",
    "intersection_prob = calculate_intersection_prob(set1, set2)\n",
    "print(\"Probabilidad de intersección:\", intersection_prob)\n",
    "\n",
    "# Check if the events are independent with the product rule\n",
    "set1_prob = len(set1)/len(deck)\n",
    "set2_prob = len(set2)/len(deck)\n",
    "product_rule = set1_prob * set2_prob\n",
    "print(\"Regla del producto:\", product_rule)\n",
    "if intersection_prob == product_rule:\n",
    "    print(\"Los eventos son independientes de acuerdo a la regla del producto.\")\n",
    "else:\n",
    "    print(\"Los eventos no son independientes de acuerdo a la regla del producto.\")\n",
    "\n",
    "# Calculate and print the probability of the union of the two sets\n",
    "union_prob = calculate_union_prob(set1, set2)\n",
    "print(\"Probabilidad de la unión:\", union_prob)\n",
    "\n",
    "# Check if the events are mutually exclusive with the addition rule\n",
    "set1_and_set2 = set1.intersection(set2)\n",
    "set1_or_set2 = set1.union(set2)\n",
    "addition_rule = len(set1_or_set2) / len(deck)\n",
    "print(\"Regla de la adición:\", addition_rule)\n",
    "if set1_and_set2 == set() and union_prob == addition_rule:\n",
    "    print(\"Los eventos son mutuamente excluyentes de acuerdo a la regla de adición.\")\n",
    "else:\n",
    "    print(\"Los eventos no son mutuamente excluyentes de acuerdo a la regla de adición.\")"
   ]
  }
 ],
 "metadata": {
  "kernelspec": {
   "display_name": "Python 3 (ipykernel)",
   "language": "python",
   "name": "python3"
  },
  "language_info": {
   "codemirror_mode": {
    "name": "ipython",
    "version": 3
   },
   "file_extension": ".py",
   "mimetype": "text/x-python",
   "name": "python",
   "nbconvert_exporter": "python",
   "pygments_lexer": "ipython3",
   "version": "3.9.13"
  }
 },
 "nbformat": 4,
 "nbformat_minor": 5
}
